{
 "cells": [
  {
   "cell_type": "code",
   "execution_count": null,
   "metadata": {},
   "outputs": [],
   "source": [
    "# choroplet maps allows us to either plot information on a global or national scale"
   ]
  },
  {
   "cell_type": "code",
   "execution_count": 5,
   "metadata": {},
   "outputs": [],
   "source": [
    "import plotly.plotly as py\n",
    "import pandas as pd\n",
    "import plotly.graph_objs as go\n",
    "from plotly.offline import download_plotlyjs,init_notebook_mode,plot,iplot"
   ]
  },
  {
   "cell_type": "code",
   "execution_count": 6,
   "metadata": {},
   "outputs": [
    {
     "data": {
      "text/html": [
       "<script type=\"text/javascript\">window.PlotlyConfig = {MathJaxConfig: 'local'};</script><script type=\"text/javascript\">if (window.MathJax) {MathJax.Hub.Config({SVG: {font: \"STIX-Web\"}});}</script><script>requirejs.config({paths: { 'plotly': ['https://cdn.plot.ly/plotly-latest.min']},});if(!window._Plotly) {require(['plotly'],function(plotly) {window._Plotly=plotly;});}</script>"
      ],
      "text/vnd.plotly.v1+html": [
       "<script type=\"text/javascript\">window.PlotlyConfig = {MathJaxConfig: 'local'};</script><script type=\"text/javascript\">if (window.MathJax) {MathJax.Hub.Config({SVG: {font: \"STIX-Web\"}});}</script><script>requirejs.config({paths: { 'plotly': ['https://cdn.plot.ly/plotly-latest.min']},});if(!window._Plotly) {require(['plotly'],function(plotly) {window._Plotly=plotly;});}</script>"
      ]
     },
     "metadata": {},
     "output_type": "display_data"
    }
   ],
   "source": [
    "# enable the plots to show up in this notebook\n",
    "init_notebook_mode(connected=True)"
   ]
  },
  {
   "cell_type": "code",
   "execution_count": 15,
   "metadata": {},
   "outputs": [],
   "source": [
    "# using dict to cast a list into a dictionary\n",
    "# type specifies the type of geographical location to be plotted\n",
    "\n",
    "data = dict(type='choropleth', \n",
    "            locations = ['AZ', 'CA', 'NY'],\n",
    "            locationmode='USA-states',\n",
    "            colorscale = 'Portland',\n",
    "            text = ['Arizona', 'California', 'New York'],\n",
    "            z = [1.0, 2.0, 3.0],\n",
    "            colorbar = {'title': 'colorbar Title Goes Here'}\n",
    "           )\n",
    "\n",
    "# text = list of texts that appears when any of the locations is hovered and must be at the \n",
    "# same index sequences as the locations so as to match appropriately\n",
    "# colorscale can be a color such as Portland, Jet, Greens, etc\n",
    "# z is the actual values that will show on the colorscale"
   ]
  },
  {
   "cell_type": "code",
   "execution_count": 16,
   "metadata": {},
   "outputs": [],
   "source": [
    "# next is the layout object which is going to be a nested dictionary\n",
    "\n",
    "layout = dict(geo={'scope': 'usa'})"
   ]
  },
  {
   "cell_type": "code",
   "execution_count": 17,
   "metadata": {},
   "outputs": [
    {
     "data": {
      "application/vnd.plotly.v1+json": {
       "config": {
        "linkText": "Export to plot.ly",
        "plotlyServerURL": "https://plot.ly",
        "showLink": true
       },
       "data": [
        {
         "colorbar": {
          "title": "colorbar Title Goes Here"
         },
         "colorscale": "Portland",
         "locationmode": "USA-states",
         "locations": [
          "AZ",
          "CA",
          "NY"
         ],
         "text": [
          "Arizona",
          "California",
          "New York"
         ],
         "type": "choropleth",
         "uid": "cb3fec82-0b1b-41a0-8585-8adc7ca2c139",
         "z": [
          1,
          2,
          3
         ]
        }
       ],
       "layout": {
        "geo": {
         "scope": "usa"
        }
       }
      },
      "text/html": [
       "<div id=\"b9938191-db56-4964-b0c9-12462258f0de\" style=\"height: 525px; width: 100%;\" class=\"plotly-graph-div\"></div><script type=\"text/javascript\">require([\"plotly\"], function(Plotly) { window.PLOTLYENV=window.PLOTLYENV || {};window.PLOTLYENV.BASE_URL=\"https://plot.ly\";Plotly.newPlot(\"b9938191-db56-4964-b0c9-12462258f0de\", [{\"colorbar\": {\"title\": \"colorbar Title Goes Here\"}, \"colorscale\": \"Portland\", \"locationmode\": \"USA-states\", \"locations\": [\"AZ\", \"CA\", \"NY\"], \"text\": [\"Arizona\", \"California\", \"New York\"], \"z\": [1.0, 2.0, 3.0], \"type\": \"choropleth\", \"uid\": \"cb3fec82-0b1b-41a0-8585-8adc7ca2c139\"}], {\"geo\": {\"scope\": \"usa\"}}, {\"showLink\": true, \"linkText\": \"Export to plot.ly\", \"plotlyServerURL\": \"https://plot.ly\"})});</script><script type=\"text/javascript\">window.addEventListener(\"resize\", function(){window._Plotly.Plots.resize(document.getElementById(\"b9938191-db56-4964-b0c9-12462258f0de\"));});</script>"
      ],
      "text/vnd.plotly.v1+html": [
       "<div id=\"b9938191-db56-4964-b0c9-12462258f0de\" style=\"height: 525px; width: 100%;\" class=\"plotly-graph-div\"></div><script type=\"text/javascript\">require([\"plotly\"], function(Plotly) { window.PLOTLYENV=window.PLOTLYENV || {};window.PLOTLYENV.BASE_URL=\"https://plot.ly\";Plotly.newPlot(\"b9938191-db56-4964-b0c9-12462258f0de\", [{\"colorbar\": {\"title\": \"colorbar Title Goes Here\"}, \"colorscale\": \"Portland\", \"locationmode\": \"USA-states\", \"locations\": [\"AZ\", \"CA\", \"NY\"], \"text\": [\"Arizona\", \"California\", \"New York\"], \"z\": [1.0, 2.0, 3.0], \"type\": \"choropleth\", \"uid\": \"cb3fec82-0b1b-41a0-8585-8adc7ca2c139\"}], {\"geo\": {\"scope\": \"usa\"}}, {\"showLink\": true, \"linkText\": \"Export to plot.ly\", \"plotlyServerURL\": \"https://plot.ly\"})});</script><script type=\"text/javascript\">window.addEventListener(\"resize\", function(){window._Plotly.Plots.resize(document.getElementById(\"b9938191-db56-4964-b0c9-12462258f0de\"));});</script>"
      ]
     },
     "metadata": {},
     "output_type": "display_data"
    }
   ],
   "source": [
    "# next is to use go.Figure\n",
    "\n",
    "choropleth = go.Figure(data = [data], layout = layout)\n",
    "iplot(choropleth)\n",
    "\n",
    "# iplot produces an interactive visualisation inline\n",
    "# plot will produce a html file that can be exported or even downloaded as a png. This will be done on a popup webpage\n",
    "# the colored areas below are the three specified locations: AZ, CA, NY"
   ]
  },
  {
   "cell_type": "code",
   "execution_count": null,
   "metadata": {},
   "outputs": [],
   "source": [
    "# using real data\n",
    "df = pd.read"
   ]
  }
 ],
 "metadata": {
  "kernelspec": {
   "display_name": "Python 3",
   "language": "python",
   "name": "python3"
  },
  "language_info": {
   "codemirror_mode": {
    "name": "ipython",
    "version": 3
   },
   "file_extension": ".py",
   "mimetype": "text/x-python",
   "name": "python",
   "nbconvert_exporter": "python",
   "pygments_lexer": "ipython3",
   "version": "3.6.5"
  }
 },
 "nbformat": 4,
 "nbformat_minor": 2
}
